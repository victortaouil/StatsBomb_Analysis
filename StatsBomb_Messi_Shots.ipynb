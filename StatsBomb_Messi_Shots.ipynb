{
 "cells": [
  {
   "cell_type": "code",
   "execution_count": 2,
   "metadata": {},
   "outputs": [
    {
     "name": "stdout",
     "output_type": "stream",
     "text": [
      "Requirement already satisfied: statsbombpy in c:\\users\\victo\\anaconda3\\lib\\site-packages (1.12.0)\n",
      "Requirement already satisfied: pandas in c:\\users\\victo\\anaconda3\\lib\\site-packages (from statsbombpy) (2.0.3)\n",
      "Requirement already satisfied: requests in c:\\users\\victo\\anaconda3\\lib\\site-packages (from statsbombpy) (2.31.0)\n",
      "Requirement already satisfied: requests-cache in c:\\users\\victo\\anaconda3\\lib\\site-packages (from statsbombpy) (1.1.1)\n",
      "Requirement already satisfied: inflect in c:\\users\\victo\\anaconda3\\lib\\site-packages (from statsbombpy) (7.0.0)\n",
      "Requirement already satisfied: joblib in c:\\users\\victo\\anaconda3\\lib\\site-packages (from statsbombpy) (1.2.0)\n",
      "Requirement already satisfied: pydantic>=1.9.1 in c:\\users\\victo\\anaconda3\\lib\\site-packages (from inflect->statsbombpy) (1.10.8)\n",
      "Requirement already satisfied: typing-extensions in c:\\users\\victo\\anaconda3\\lib\\site-packages (from inflect->statsbombpy) (4.7.1)\n",
      "Requirement already satisfied: python-dateutil>=2.8.2 in c:\\users\\victo\\anaconda3\\lib\\site-packages (from pandas->statsbombpy) (2.8.2)\n",
      "Requirement already satisfied: pytz>=2020.1 in c:\\users\\victo\\anaconda3\\lib\\site-packages (from pandas->statsbombpy) (2023.3.post1)\n",
      "Requirement already satisfied: tzdata>=2022.1 in c:\\users\\victo\\anaconda3\\lib\\site-packages (from pandas->statsbombpy) (2023.3)\n",
      "Requirement already satisfied: numpy>=1.21.0 in c:\\users\\victo\\anaconda3\\lib\\site-packages (from pandas->statsbombpy) (1.24.3)\n",
      "Requirement already satisfied: charset-normalizer<4,>=2 in c:\\users\\victo\\anaconda3\\lib\\site-packages (from requests->statsbombpy) (2.0.4)\n",
      "Requirement already satisfied: idna<4,>=2.5 in c:\\users\\victo\\anaconda3\\lib\\site-packages (from requests->statsbombpy) (3.4)\n",
      "Requirement already satisfied: urllib3<3,>=1.21.1 in c:\\users\\victo\\anaconda3\\lib\\site-packages (from requests->statsbombpy) (1.26.16)\n",
      "Requirement already satisfied: certifi>=2017.4.17 in c:\\users\\victo\\anaconda3\\lib\\site-packages (from requests->statsbombpy) (2023.7.22)\n",
      "Requirement already satisfied: attrs>=21.2 in c:\\users\\victo\\anaconda3\\lib\\site-packages (from requests-cache->statsbombpy) (23.2.0)\n",
      "Requirement already satisfied: cattrs>=22.2 in c:\\users\\victo\\anaconda3\\lib\\site-packages (from requests-cache->statsbombpy) (23.2.3)\n",
      "Requirement already satisfied: platformdirs>=2.5 in c:\\users\\victo\\anaconda3\\lib\\site-packages (from requests-cache->statsbombpy) (3.10.0)\n",
      "Requirement already satisfied: url-normalize>=1.4 in c:\\users\\victo\\anaconda3\\lib\\site-packages (from requests-cache->statsbombpy) (1.4.3)\n",
      "Requirement already satisfied: six>=1.5 in c:\\users\\victo\\anaconda3\\lib\\site-packages (from python-dateutil>=2.8.2->pandas->statsbombpy) (1.16.0)\n"
     ]
    },
    {
     "name": "stderr",
     "output_type": "stream",
     "text": [
      "WARNING: There was an error checking the latest version of pip.\n"
     ]
    }
   ],
   "source": [
    "#First let's install the statsbombpy library and import sb from it. Also we need to import pandas\n",
    "!pip install statsbombpy\n",
    "from statsbombpy import sb\n",
    "import pandas as pd"
   ]
  },
  {
   "cell_type": "code",
   "execution_count": 3,
   "metadata": {},
   "outputs": [
    {
     "name": "stderr",
     "output_type": "stream",
     "text": [
      "c:\\Users\\victo\\anaconda3\\Lib\\site-packages\\statsbombpy\\api_client.py:21: NoAuthWarning: credentials were not supplied. open data access only\n",
      "  warnings.warn(\n"
     ]
    }
   ],
   "source": [
    "#We're now definying our game that will be analysed, the final game of the world cup final is the below code. And we must import all the events that happened in that game \n",
    "\n",
    "final_copa_2022 = [3869685]\n",
    "\n",
    "events = []\n",
    "for n in final_copa_2022:\n",
    "  match_events = sb.events(match_id = n)\n",
    "  events.append(match_events)\n",
    "  match_events_df = pd.concat(events)"
   ]
  },
  {
   "cell_type": "code",
   "execution_count": 4,
   "metadata": {},
   "outputs": [],
   "source": [
    "#importing some more important libraries\n",
    "\n",
    "import requests as req\n",
    "import statsbombpy.entities as ents\n",
    "from statsbombpy.config import OPEN_DATA_PATHS\n"
   ]
  },
  {
   "cell_type": "code",
   "execution_count": 5,
   "metadata": {},
   "outputs": [],
   "source": [
    "# Follow the statsbomb tutorial on how to get their data throught their API. This data will give us the 360 Data, will inform freeze by freeze \n",
    "# where were all the player and the ball in a certain time \n",
    "\n",
    "def get_response(path):\n",
    "    response = req.get(path)\n",
    "    response.raise_for_status()\n",
    "    data = response.json()\n",
    "    return data\n",
    "\n",
    "def frames(match_id: int) -> dict:\n",
    "    path = OPEN_DATA_PATHS[\"frames\"].format(match_id=match_id)\n",
    "    frames = get_response(path)\n",
    "    frames = ents.frames(frames, match_id)\n",
    "    return frames"
   ]
  },
  {
   "cell_type": "code",
   "execution_count": 6,
   "metadata": {},
   "outputs": [
    {
     "data": {
      "text/html": [
       "<div>\n",
       "<style scoped>\n",
       "    .dataframe tbody tr th:only-of-type {\n",
       "        vertical-align: middle;\n",
       "    }\n",
       "\n",
       "    .dataframe tbody tr th {\n",
       "        vertical-align: top;\n",
       "    }\n",
       "\n",
       "    .dataframe thead th {\n",
       "        text-align: right;\n",
       "    }\n",
       "</style>\n",
       "<table border=\"1\" class=\"dataframe\">\n",
       "  <thead>\n",
       "    <tr style=\"text-align: right;\">\n",
       "      <th></th>\n",
       "      <th>event_uuid</th>\n",
       "      <th>visible_area</th>\n",
       "      <th>freeze_frame</th>\n",
       "      <th>match_id</th>\n",
       "    </tr>\n",
       "  </thead>\n",
       "  <tbody>\n",
       "    <tr>\n",
       "      <th>0</th>\n",
       "      <td>f651a6c4-55e3-4e0f-a178-59414ba83d6a</td>\n",
       "      <td>[8.98496759714251, 80.0, 41.4622037211361, 0.0...</td>\n",
       "      <td>[{'teammate': True, 'actor': False, 'keeper': ...</td>\n",
       "      <td>3869685</td>\n",
       "    </tr>\n",
       "    <tr>\n",
       "      <th>1</th>\n",
       "      <td>97b5dc82-547a-4f93-a632-a2a8daf5ac98</td>\n",
       "      <td>[8.74654439366353, 80.0, 40.9967310870193, 0.0...</td>\n",
       "      <td>[{'teammate': True, 'actor': False, 'keeper': ...</td>\n",
       "      <td>3869685</td>\n",
       "    </tr>\n",
       "    <tr>\n",
       "      <th>2</th>\n",
       "      <td>9707e590-1d55-4d25-a50f-475019356152</td>\n",
       "      <td>[8.74654439366353, 80.0, 40.9967310870193, 0.0...</td>\n",
       "      <td>[{'teammate': True, 'actor': False, 'keeper': ...</td>\n",
       "      <td>3869685</td>\n",
       "    </tr>\n",
       "    <tr>\n",
       "      <th>3</th>\n",
       "      <td>a5956ecc-d637-44d2-8705-e2079e12013e</td>\n",
       "      <td>[10.227276315524, 80.0, 41.5155332886657, 0.0,...</td>\n",
       "      <td>[{'teammate': True, 'actor': False, 'keeper': ...</td>\n",
       "      <td>3869685</td>\n",
       "    </tr>\n",
       "    <tr>\n",
       "      <th>4</th>\n",
       "      <td>5ba6dfab-49f0-4225-bbb6-8b1e27bc729a</td>\n",
       "      <td>[13.2232254880239, 80.0, 0.0, 65.4802459369524...</td>\n",
       "      <td>[{'teammate': True, 'actor': False, 'keeper': ...</td>\n",
       "      <td>3869685</td>\n",
       "    </tr>\n",
       "    <tr>\n",
       "      <th>...</th>\n",
       "      <td>...</td>\n",
       "      <td>...</td>\n",
       "      <td>...</td>\n",
       "      <td>...</td>\n",
       "    </tr>\n",
       "    <tr>\n",
       "      <th>3678</th>\n",
       "      <td>97439112-dfb5-4bd5-9967-554095296096</td>\n",
       "      <td>[74.8245066203564, 80.0, 65.5827051836776, 11....</td>\n",
       "      <td>[{'teammate': True, 'actor': True, 'keeper': F...</td>\n",
       "      <td>3869685</td>\n",
       "    </tr>\n",
       "    <tr>\n",
       "      <th>3679</th>\n",
       "      <td>50dcde1a-faa3-4eec-a0cd-3f09a7cf763a</td>\n",
       "      <td>[71.7859219296227, 80.0, 72.1109742638867, 8.9...</td>\n",
       "      <td>[{'teammate': True, 'actor': True, 'keeper': F...</td>\n",
       "      <td>3869685</td>\n",
       "    </tr>\n",
       "    <tr>\n",
       "      <th>3680</th>\n",
       "      <td>54e27ba9-b9ae-44a3-ac8d-fc91e76a1b91</td>\n",
       "      <td>[6.10280272391214, 80.0, 37.1010455294984, 7.9...</td>\n",
       "      <td>[{'teammate': True, 'actor': True, 'keeper': F...</td>\n",
       "      <td>3869685</td>\n",
       "    </tr>\n",
       "    <tr>\n",
       "      <th>3681</th>\n",
       "      <td>bcc6d4ae-f71c-4566-bf2d-c12f910eb526</td>\n",
       "      <td>[6.0830318986702, 80.0, 35.2414826693926, 9.61...</td>\n",
       "      <td>[{'teammate': True, 'actor': True, 'keeper': F...</td>\n",
       "      <td>3869685</td>\n",
       "    </tr>\n",
       "    <tr>\n",
       "      <th>3682</th>\n",
       "      <td>66eaf262-999f-4953-a924-f1b596de4dbf</td>\n",
       "      <td>[69.5981279002227, 80.0, 59.425388472539, 10.8...</td>\n",
       "      <td>[{'teammate': True, 'actor': True, 'keeper': F...</td>\n",
       "      <td>3869685</td>\n",
       "    </tr>\n",
       "  </tbody>\n",
       "</table>\n",
       "<p>3683 rows × 4 columns</p>\n",
       "</div>"
      ],
      "text/plain": [
       "                                event_uuid  \\\n",
       "0     f651a6c4-55e3-4e0f-a178-59414ba83d6a   \n",
       "1     97b5dc82-547a-4f93-a632-a2a8daf5ac98   \n",
       "2     9707e590-1d55-4d25-a50f-475019356152   \n",
       "3     a5956ecc-d637-44d2-8705-e2079e12013e   \n",
       "4     5ba6dfab-49f0-4225-bbb6-8b1e27bc729a   \n",
       "...                                    ...   \n",
       "3678  97439112-dfb5-4bd5-9967-554095296096   \n",
       "3679  50dcde1a-faa3-4eec-a0cd-3f09a7cf763a   \n",
       "3680  54e27ba9-b9ae-44a3-ac8d-fc91e76a1b91   \n",
       "3681  bcc6d4ae-f71c-4566-bf2d-c12f910eb526   \n",
       "3682  66eaf262-999f-4953-a924-f1b596de4dbf   \n",
       "\n",
       "                                           visible_area  \\\n",
       "0     [8.98496759714251, 80.0, 41.4622037211361, 0.0...   \n",
       "1     [8.74654439366353, 80.0, 40.9967310870193, 0.0...   \n",
       "2     [8.74654439366353, 80.0, 40.9967310870193, 0.0...   \n",
       "3     [10.227276315524, 80.0, 41.5155332886657, 0.0,...   \n",
       "4     [13.2232254880239, 80.0, 0.0, 65.4802459369524...   \n",
       "...                                                 ...   \n",
       "3678  [74.8245066203564, 80.0, 65.5827051836776, 11....   \n",
       "3679  [71.7859219296227, 80.0, 72.1109742638867, 8.9...   \n",
       "3680  [6.10280272391214, 80.0, 37.1010455294984, 7.9...   \n",
       "3681  [6.0830318986702, 80.0, 35.2414826693926, 9.61...   \n",
       "3682  [69.5981279002227, 80.0, 59.425388472539, 10.8...   \n",
       "\n",
       "                                           freeze_frame  match_id  \n",
       "0     [{'teammate': True, 'actor': False, 'keeper': ...   3869685  \n",
       "1     [{'teammate': True, 'actor': False, 'keeper': ...   3869685  \n",
       "2     [{'teammate': True, 'actor': False, 'keeper': ...   3869685  \n",
       "3     [{'teammate': True, 'actor': False, 'keeper': ...   3869685  \n",
       "4     [{'teammate': True, 'actor': False, 'keeper': ...   3869685  \n",
       "...                                                 ...       ...  \n",
       "3678  [{'teammate': True, 'actor': True, 'keeper': F...   3869685  \n",
       "3679  [{'teammate': True, 'actor': True, 'keeper': F...   3869685  \n",
       "3680  [{'teammate': True, 'actor': True, 'keeper': F...   3869685  \n",
       "3681  [{'teammate': True, 'actor': True, 'keeper': F...   3869685  \n",
       "3682  [{'teammate': True, 'actor': True, 'keeper': F...   3869685  \n",
       "\n",
       "[3683 rows x 4 columns]"
      ]
     },
     "execution_count": 6,
     "metadata": {},
     "output_type": "execute_result"
    }
   ],
   "source": [
    "#Putting the 360 data into a dataframe\n",
    "\n",
    "final_copa_2022 = 3869685\n",
    "match_360 = pd.DataFrame(frames(final_copa_2022))\n",
    "match_360"
   ]
  },
  {
   "cell_type": "code",
   "execution_count": 7,
   "metadata": {},
   "outputs": [],
   "source": [
    "#Merging the events of the game with the 360 data\n",
    "\n",
    "df = pd.merge(left = match_events_df, right = match_360 , left_on = 'id', right_on = 'event_uuid', how = 'left')"
   ]
  },
  {
   "cell_type": "code",
   "execution_count": 8,
   "metadata": {},
   "outputs": [
    {
     "data": {
      "text/plain": [
       "Index(['50_50', 'bad_behaviour_card', 'ball_receipt_outcome',\n",
       "       'ball_recovery_offensive', 'ball_recovery_recovery_failure',\n",
       "       'block_deflection', 'block_offensive', 'carry_end_location',\n",
       "       'clearance_aerial_won', 'clearance_body_part', 'clearance_head',\n",
       "       'clearance_left_foot', 'clearance_other', 'clearance_right_foot',\n",
       "       'counterpress', 'dribble_nutmeg', 'dribble_outcome', 'dribble_overrun',\n",
       "       'duel_outcome', 'duel_type', 'duration', 'foul_committed_advantage',\n",
       "       'foul_committed_card', 'foul_committed_offensive',\n",
       "       'foul_committed_penalty', 'foul_committed_type', 'foul_won_advantage',\n",
       "       'foul_won_defensive', 'foul_won_penalty', 'goalkeeper_body_part',\n",
       "       'goalkeeper_end_location', 'goalkeeper_outcome', 'goalkeeper_position',\n",
       "       'goalkeeper_technique', 'goalkeeper_type', 'id', 'index',\n",
       "       'interception_outcome', 'location', 'match_id_x', 'minute',\n",
       "       'off_camera', 'out', 'pass_aerial_won', 'pass_angle',\n",
       "       'pass_assisted_shot_id', 'pass_body_part', 'pass_cross',\n",
       "       'pass_deflected', 'pass_end_location', 'pass_goal_assist',\n",
       "       'pass_height', 'pass_inswinging', 'pass_length', 'pass_outcome',\n",
       "       'pass_outswinging', 'pass_recipient', 'pass_recipient_id',\n",
       "       'pass_shot_assist', 'pass_switch', 'pass_technique',\n",
       "       'pass_through_ball', 'pass_type', 'period', 'play_pattern', 'player',\n",
       "       'player_id', 'position', 'possession', 'possession_team',\n",
       "       'possession_team_id', 'related_events', 'second', 'shot_aerial_won',\n",
       "       'shot_body_part', 'shot_end_location', 'shot_first_time',\n",
       "       'shot_freeze_frame', 'shot_key_pass_id', 'shot_one_on_one',\n",
       "       'shot_outcome', 'shot_statsbomb_xg', 'shot_technique', 'shot_type',\n",
       "       'substitution_outcome', 'substitution_replacement', 'tactics', 'team',\n",
       "       'team_id', 'timestamp', 'type', 'under_pressure', 'event_uuid',\n",
       "       'visible_area', 'freeze_frame', 'match_id_y'],\n",
       "      dtype='object')"
      ]
     },
     "execution_count": 8,
     "metadata": {},
     "output_type": "execute_result"
    }
   ],
   "source": [
    "df.columns\n",
    "\n"
   ]
  },
  {
   "cell_type": "code",
   "execution_count": 9,
   "metadata": {},
   "outputs": [
    {
     "name": "stderr",
     "output_type": "stream",
     "text": [
      "C:\\Users\\victo\\AppData\\Local\\Temp\\ipykernel_12112\\2370567121.py:15: SettingWithCopyWarning: \n",
      "A value is trying to be set on a copy of a slice from a DataFrame.\n",
      "Try using .loc[row_indexer,col_indexer] = value instead\n",
      "\n",
      "See the caveats in the documentation: https://pandas.pydata.org/pandas-docs/stable/user_guide/indexing.html#returning-a-view-versus-a-copy\n",
      "  messi_shots['x_loc_start'] = x_loc\n",
      "C:\\Users\\victo\\AppData\\Local\\Temp\\ipykernel_12112\\2370567121.py:16: SettingWithCopyWarning: \n",
      "A value is trying to be set on a copy of a slice from a DataFrame.\n",
      "Try using .loc[row_indexer,col_indexer] = value instead\n",
      "\n",
      "See the caveats in the documentation: https://pandas.pydata.org/pandas-docs/stable/user_guide/indexing.html#returning-a-view-versus-a-copy\n",
      "  messi_shots['y_loc_start'] = y_loc\n",
      "C:\\Users\\victo\\AppData\\Local\\Temp\\ipykernel_12112\\2370567121.py:30: SettingWithCopyWarning: \n",
      "A value is trying to be set on a copy of a slice from a DataFrame.\n",
      "Try using .loc[row_indexer,col_indexer] = value instead\n",
      "\n",
      "See the caveats in the documentation: https://pandas.pydata.org/pandas-docs/stable/user_guide/indexing.html#returning-a-view-versus-a-copy\n",
      "  messi_shots['x_loc_end'] = x_loc_end\n",
      "C:\\Users\\victo\\AppData\\Local\\Temp\\ipykernel_12112\\2370567121.py:31: SettingWithCopyWarning: \n",
      "A value is trying to be set on a copy of a slice from a DataFrame.\n",
      "Try using .loc[row_indexer,col_indexer] = value instead\n",
      "\n",
      "See the caveats in the documentation: https://pandas.pydata.org/pandas-docs/stable/user_guide/indexing.html#returning-a-view-versus-a-copy\n",
      "  messi_shots['y_loc_end'] = y_loc_end\n"
     ]
    }
   ],
   "source": [
    "#For our analysis, we're going to look deeper on how messi passes were in this particularly match \n",
    "\n",
    "Messi_id = int(df[df['player'] == 'Lionel Andrés Messi Cuccittini']['player_id'].unique())\n",
    "\n",
    "messi_shots = df[(df['player_id'] == Messi_id) & (df['type'] == 'Shot')]\n",
    "\n",
    "# getting the start location of Messi whenever he tried a pass. \n",
    "\n",
    "x_loc=[]\n",
    "y_loc =[]\n",
    "for row in messi_shots['location']:\n",
    "    x_loc.append(row[0])\n",
    "    y_loc.append(row[1])\n",
    "\n",
    "messi_shots['x_loc_start'] = x_loc\n",
    "messi_shots['y_loc_start'] = y_loc\n",
    "\n",
    "\n",
    "#Now we are getting the end location of his passes. \n",
    "\n",
    "messi_shots['shot_end_location']\n",
    "\n",
    "x_loc_end =[]\n",
    "y_loc_end = [] \n",
    "\n",
    "for row in messi_shots['shot_end_location']:\n",
    "    x_loc_end.append(row[0])\n",
    "    y_loc_end.append(row[1])\n",
    "\n",
    "messi_shots['x_loc_end'] = x_loc_end\n",
    "messi_shots['y_loc_end'] = y_loc_end\n"
   ]
  },
  {
   "cell_type": "code",
   "execution_count": 31,
   "metadata": {},
   "outputs": [
    {
     "name": "stdout",
     "output_type": "stream",
     "text": [
      "Requirement already satisfied: mplsoccer in c:\\users\\victo\\anaconda3\\lib\\site-packages (1.2.2)\n",
      "Requirement already satisfied: matplotlib>=3.6 in c:\\users\\victo\\anaconda3\\lib\\site-packages (from mplsoccer) (3.7.2)\n",
      "Requirement already satisfied: numpy in c:\\users\\victo\\anaconda3\\lib\\site-packages (from mplsoccer) (1.24.3)\n",
      "Requirement already satisfied: pandas in c:\\users\\victo\\anaconda3\\lib\\site-packages (from mplsoccer) (2.0.3)\n",
      "Requirement already satisfied: pillow in c:\\users\\victo\\anaconda3\\lib\\site-packages (from mplsoccer) (9.4.0)\n",
      "Requirement already satisfied: requests in c:\\users\\victo\\anaconda3\\lib\\site-packages (from mplsoccer) (2.31.0)\n",
      "Requirement already satisfied: scipy in c:\\users\\victo\\anaconda3\\lib\\site-packages (from mplsoccer) (1.11.1)\n",
      "Requirement already satisfied: seaborn in c:\\users\\victo\\anaconda3\\lib\\site-packages (from mplsoccer) (0.12.2)\n",
      "Requirement already satisfied: contourpy>=1.0.1 in c:\\users\\victo\\anaconda3\\lib\\site-packages (from matplotlib>=3.6->mplsoccer) (1.0.5)\n",
      "Requirement already satisfied: cycler>=0.10 in c:\\users\\victo\\anaconda3\\lib\\site-packages (from matplotlib>=3.6->mplsoccer) (0.11.0)\n",
      "Requirement already satisfied: fonttools>=4.22.0 in c:\\users\\victo\\anaconda3\\lib\\site-packages (from matplotlib>=3.6->mplsoccer) (4.25.0)\n",
      "Requirement already satisfied: kiwisolver>=1.0.1 in c:\\users\\victo\\anaconda3\\lib\\site-packages (from matplotlib>=3.6->mplsoccer) (1.4.4)\n",
      "Requirement already satisfied: packaging>=20.0 in c:\\users\\victo\\anaconda3\\lib\\site-packages (from matplotlib>=3.6->mplsoccer) (23.1)\n",
      "Requirement already satisfied: pyparsing<3.1,>=2.3.1 in c:\\users\\victo\\anaconda3\\lib\\site-packages (from matplotlib>=3.6->mplsoccer) (3.0.9)\n",
      "Requirement already satisfied: python-dateutil>=2.7 in c:\\users\\victo\\anaconda3\\lib\\site-packages (from matplotlib>=3.6->mplsoccer) (2.8.2)\n",
      "Requirement already satisfied: pytz>=2020.1 in c:\\users\\victo\\anaconda3\\lib\\site-packages (from pandas->mplsoccer) (2023.3.post1)\n",
      "Requirement already satisfied: tzdata>=2022.1 in c:\\users\\victo\\anaconda3\\lib\\site-packages (from pandas->mplsoccer) (2023.3)\n",
      "Requirement already satisfied: charset-normalizer<4,>=2 in c:\\users\\victo\\anaconda3\\lib\\site-packages (from requests->mplsoccer) (2.0.4)\n",
      "Requirement already satisfied: idna<4,>=2.5 in c:\\users\\victo\\anaconda3\\lib\\site-packages (from requests->mplsoccer) (3.4)\n",
      "Requirement already satisfied: urllib3<3,>=1.21.1 in c:\\users\\victo\\anaconda3\\lib\\site-packages (from requests->mplsoccer) (1.26.16)\n",
      "Requirement already satisfied: certifi>=2017.4.17 in c:\\users\\victo\\anaconda3\\lib\\site-packages (from requests->mplsoccer) (2023.7.22)\n",
      "Requirement already satisfied: six>=1.5 in c:\\users\\victo\\anaconda3\\lib\\site-packages (from python-dateutil>=2.7->matplotlib>=3.6->mplsoccer) (1.16.0)\n"
     ]
    },
    {
     "name": "stderr",
     "output_type": "stream",
     "text": [
      "WARNING: There was an error checking the latest version of pip.\n"
     ]
    }
   ],
   "source": [
    "#Installing the mplsoccer library in order to get the pitch draw and better visualization to help our analysis\n",
    "\n",
    "!pip install mplsoccer\n",
    "from mplsoccer import VerticalPitch \n"
   ]
  },
  {
   "cell_type": "code",
   "execution_count": 57,
   "metadata": {},
   "outputs": [],
   "source": [
    "# We'll filter messi's passes in two categories: right and wrong shots and their xG\n",
    "import math\n",
    "\n",
    "xG_messi_shot = messi_shots['shot_statsbomb_xg']\n",
    "xG_messi_shot  = xG_messi_shot.round(2)\n",
    "\n",
    "goal_shots = messi_shots['shot_outcome'].loc[messi_shots['shot_outcome'] == 'Goal']\n",
    "non_goal_shots = messi_shots['shot_outcome'].loc[messi_shots['shot_outcome'] != 'Goal']\n",
    "\n",
    "\n",
    "\n",
    "\n",
    "\n",
    "\n",
    "\n"
   ]
  },
  {
   "cell_type": "code",
   "execution_count": 63,
   "metadata": {},
   "outputs": [
    {
     "data": {
      "text/plain": [
       "<matplotlib.collections.LineCollection at 0x1e85b582490>"
      ]
     },
     "execution_count": 63,
     "metadata": {},
     "output_type": "execute_result"
    },
    {
     "data": {
      "image/png": "[encoded data removed]",
      "text/plain": [
       "<Figure size 800x600 with 1 Axes>"
      ]
     },
     "metadata": {},
     "output_type": "display_data"
    }
   ],
   "source": [
    "#Plotting the pitch with the right passes in green and wrong ones in red. It's important to notice that the Messi's squad is always attacking to the right side of the pitch in this case. \n",
    "\n",
    "p = VerticalPitch(pitch_type= 'statsbomb', half = True)\n",
    "\n",
    "fig, ax = p.draw(figsize=(8,6))\n",
    "\n",
    "p.scatter(x = messi_shots['x_loc_start'], y = messi_shots['y_loc_start'], ax=ax)\n",
    "\n",
    "for y,x,j in zip(messi_shots['x_loc_start'],messi_shots['y_loc_start'],xG_messi_shot ):\n",
    "    p.text((y-1.5), x,j, va='center', ha='center', ax=ax)\n",
    "\n",
    "p.lines(xstart = messi_shots['x_loc_start'][goal_shots.index], ystart=messi_shots['y_loc_start'][goal_shots.index], xend= messi_shots['x_loc_end'][goal_shots.index], yend= messi_shots['y_loc_end'][goal_shots.index], ax=ax, comet= True, color = 'blue')\n",
    "p.lines(xstart = messi_shots['x_loc_start'][non_goal_shots.index], ystart=messi_shots['y_loc_start'][non_goal_shots.index], xend= messi_shots['x_loc_end'][non_goal_shots.index], yend= messi_shots['y_loc_end'][non_goal_shots.index], ax=ax, comet= True, color = 'red')\n"
   ]
  },
  {
   "cell_type": "code",
   "execution_count": null,
   "metadata": {},
   "outputs": [],
   "source": []
  }
 ],
 "metadata": {
  "kernelspec": {
   "display_name": "base",
   "language": "python",
   "name": "python3"
  },
  "language_info": {
   "codemirror_mode": {
    "name": "ipython",
    "version": 3
   },
   "file_extension": ".py",
   "mimetype": "text/x-python",
   "name": "python",
   "nbconvert_exporter": "python",
   "pygments_lexer": "ipython3",
   "version": "3.11.5"
  }
 },
 "nbformat": 4,
 "nbformat_minor": 2
}
